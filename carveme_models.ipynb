{
 "cells": [
  {
   "cell_type": "code",
   "execution_count": 19,
   "metadata": {
    "collapsed": true
   },
   "outputs": [],
   "source": [
    "from cobra.io import read_sbml_model\n",
    "import os\n",
    "from os.path import join\n",
    "import re\n",
    "import pandas as pd\n",
    "import numpy as np\n",
    "import matplotlib.pyplot as plt\n",
    "import matplotlib\n",
    "import seaborn as sns\n",
    "matplotlib.style.use('ggplot')\n",
    "%matplotlib inline"
   ]
  },
  {
   "cell_type": "markdown",
   "metadata": {},
   "source": [
    "The models in model_list were generated using carveme with the following options:\n",
    "- gap filling: LB\n",
    "- initial conditions: LB\n",
    "- Biomass function: 'gramneg' and 'grampos' according to the species\n",
    "\n",
    "The fasta sequences used to generate this models were downloaded from ncbi and correspond to only complete reference sequences of selected bacterial genomes.\n",
    "Instructions for downloading multiple fasta sequences can be found [here](https://www.ncbi.nlm.nih.gov/genome/doc/ftpfaq/).\n",
    "And instructions on how to use CarveMe can be found [here](http://carveme.readthedocs.io/en/latest/usage.html)."
   ]
  },
  {
   "cell_type": "code",
   "execution_count": 20,
   "metadata": {
    "collapsed": true
   },
   "outputs": [],
   "source": [
    "models_list=[a for a in os.listdir(\".\") if re.search(\"xml\",a)]"
   ]
  },
  {
   "cell_type": "markdown",
   "metadata": {},
   "source": [
    "The following functions were used to deal with the different reaction's ID corresponding to the same reaction."
   ]
  },
  {
   "cell_type": "code",
   "execution_count": 21,
   "metadata": {
    "collapsed": true
   },
   "outputs": [],
   "source": [
    "def check_HMBDP(model):#Returns flux of MECDPDH independent of its name in the model.\n",
    "    try:\n",
    "        model.reactions.MECDPDH.reaction\n",
    "    except:\n",
    "        try:\n",
    "            model.reactions.MECDPDHf.reaction\n",
    "        except:\n",
    "            try:\n",
    "                model.reactions.MECDPDH5.reaction\n",
    "            except:\n",
    "                try:\n",
    "                    model.reactions.MECDPDH4.reaction\n",
    "                except:\n",
    "                    try:\n",
    "                        model.reactions.MECDPDH2.reaction\n",
    "                    except:\n",
    "                        try:\n",
    "                            model.reactions.MECDPDH_syn.reaction\n",
    "                        except:\n",
    "                            return [False, ]\n",
    "                        else:\n",
    "                            return [True, model.reactions.MECDPDH_syn.flux]\n",
    "                    else:\n",
    "                        return [True, model.reactions.MECDPDH2.flux]\n",
    "                else:\n",
    "                    return [True, model.reactions.MECDPDH4.flux]\n",
    "            else:\n",
    "                return [True, model.reactions.MECDPDH5.flux]\n",
    "        else:\n",
    "            return [True, model.reactions.MECDPDHf.flux]\n",
    "    else:\n",
    "        return [True, model.reactions.MECDPDH.flux]"
   ]
  },
  {
   "cell_type": "code",
   "execution_count": 22,
   "metadata": {
    "collapsed": true
   },
   "outputs": [],
   "source": [
    "def check_chor(model): #Returns flux of CHORS independent of its name in the model.\n",
    "    try:\n",
    "        model.reactions.CHORS.reaction\n",
    "    except:\n",
    "        try:\n",
    "            model.reactions.CHRS.reaction\n",
    "        except:\n",
    "            return [False, ]\n",
    "        else:\n",
    "            return [True, model.reactions.CHRS.flux]\n",
    "    else:\n",
    "        return [True, model.reactions.CHORS.flux]"
   ]
  },
  {
   "cell_type": "code",
   "execution_count": 23,
   "metadata": {
    "collapsed": true
   },
   "outputs": [],
   "source": [
    "def check_tyr(model): #Returns flux of TYRTA independent of its name in the model.\n",
    "    try:\n",
    "        model.reactions.TYRTA.reaction\n",
    "    except:\n",
    "        return [False, ]\n",
    "    else:\n",
    "        return [True, model.reactions.TYRTA.flux]"
   ]
  },
  {
   "cell_type": "markdown",
   "metadata": {},
   "source": [
    "The following loop creates a dataframe with the fluxes of Biomass, malonyl-CoA, L-tyrosine, chorismate and HMBDP for all models."
   ]
  },
  {
   "cell_type": "code",
   "execution_count": 24,
   "metadata": {},
   "outputs": [
    {
     "name": "stdout",
     "output_type": "stream",
     "text": [
      "CPU times: user 50.7 s, sys: 773 ms, total: 51.5 s\n",
      "Wall time: 52.8 s\n"
     ]
    }
   ],
   "source": [
    "%%time\n",
    "flux_rates={}     #Creates a dataframe storing the fluxes of Growth, ACCOAC, TYRTA, CHORS, HMBDP for all models\n",
    "for model_name in models_list:\n",
    "    model=read_sbml_model(model_name)\n",
    "    model.slim_optimize()\n",
    "    if check_HMBDP(model)[0]:\n",
    "        hmbdp=check_HMBDP(model)[1]\n",
    "        if check_chor(model)[0]:\n",
    "            chor=check_chor(model)[1]\n",
    "            if check_tyr(model)[0]:\n",
    "                tyr=check_tyr(model)[1]\n",
    "                flux_rates[model_name]=[model.reactions.Growth.flux,\n",
    "                                        model.reactions.ACCOAC.flux,\n",
    "                                        tyr,\n",
    "                                        chor,\n",
    "                                        hmbdp\n",
    "                                        ]\n",
    "            else:\n",
    "                chor=check_chor(model)[1]\n",
    "                hmbdp=check_HMBDP(model)[1]\n",
    "                flux_rates[model_name]=[model.reactions.Growth.flux,\n",
    "                                        model.reactions.ACCOAC.flux,\n",
    "                                        np.nan,\n",
    "                                        chor,\n",
    "                                        hmbdp\n",
    "                                        ]\n",
    "        else:\n",
    "            if check_tyr(model)[0]:\n",
    "                tyr=check_tyr(model)[1]\n",
    "                flux_rates[model_name]=[model.reactions.Growth.flux,\n",
    "                                        model.reactions.ACCOAC.flux,\n",
    "                                        tyr,\n",
    "                                        np.nan,\n",
    "                                        hmbdp\n",
    "                                        ]\n",
    "            else:\n",
    "                hmbdp=check_HMBDP(model)[1]\n",
    "                flux_rates[model_name]=[model.reactions.Growth.flux,\n",
    "                                        model.reactions.ACCOAC.flux,\n",
    "                                        np.nan,\n",
    "                                        np.nan,\n",
    "                                        hmbdp\n",
    "                                        ]\n",
    "    else:\n",
    "        if check_chor(model)[0]:\n",
    "            chor=check_chor(model)[1]\n",
    "            if check_tyr(model)[0]:\n",
    "                tyr=check_tyr(model)[1]\n",
    "                flux_rates[model_name]=[model.reactions.Growth.flux,\n",
    "                                        model.reactions.ACCOAC.flux,\n",
    "                                        tyr,\n",
    "                                        chor,\n",
    "                                        np.nan\n",
    "                                        ]\n",
    "            else:\n",
    "                chor=check_chor(model)[1]\n",
    "                flux_rates[model_name]=[model.reactions.Growth.flux,\n",
    "                                        model.reactions.ACCOAC.flux,\n",
    "                                        np.nan,\n",
    "                                        chor,\n",
    "                                        np.nan\n",
    "                                        ]\n",
    "        else:\n",
    "            if check_tyr(model)[0]:\n",
    "                tyr=check_tyr(model)[1]\n",
    "                flux_rates[model_name]=[model.reactions.Growth.flux,\n",
    "                                        model.reactions.ACCOAC.flux,\n",
    "                                        tyr,\n",
    "                                        np.nan,\n",
    "                                        np.nan\n",
    "                                        ]\n",
    "            else:\n",
    "                flux_rates[model_name]=[model.reactions.Growth.flux,\n",
    "                                        model.reactions.ACCOAC.flux,\n",
    "                                        np.nan,\n",
    "                                        np.nan,\n",
    "                                        np.nan\n",
    "                                        ]\n",
    "df=pd.DataFrame.from_dict(flux_rates, orient=\"index\")\n",
    "df.rename(columns={0:'growth_rate',1:'malonyl-CoA',2:'L-tyrosine',3:'Chorismate',4:'HMBDP'}, inplace=True)"
   ]
  },
  {
   "cell_type": "markdown",
   "metadata": {},
   "source": [
    "Ploting the fluxes..."
   ]
  },
  {
   "cell_type": "code",
   "execution_count": 25,
   "metadata": {},
   "outputs": [
    {
     "data": {
      "text/plain": [
       "<matplotlib.axes._subplots.AxesSubplot at 0x1182c9828>"
      ]
     },
     "execution_count": 25,
     "metadata": {},
     "output_type": "execute_result"
    },
    {
     "data": {
      "image/png": "[encoded data removed]",
      "text/plain": [
       "<matplotlib.figure.Figure at 0x118794550>"
      ]
     },
     "metadata": {},
     "output_type": "display_data"
    }
   ],
   "source": [
    "plt.subplots(figsize=(10,9)) #Ploting a heatmap\n",
    "cmap = sns.cubehelix_palette(as_cmap=True, light=.9)\n",
    "sns.heatmap(data=df.iloc[0:,0:5],cmap='viridis',vmin=0, vmax=10)"
   ]
  },
  {
   "cell_type": "markdown",
   "metadata": {},
   "source": [
    "### Comparing fluxes in *E. coli* model using different biomass function"
   ]
  },
  {
   "cell_type": "code",
   "execution_count": 41,
   "metadata": {},
   "outputs": [
    {
     "name": "stdout",
     "output_type": "stream",
     "text": [
      "Growth rate: 0.9823718127269809\n",
      "malonyl-CoA: 0.07645799818454097\n",
      "L-tyrosine: -0.13568421240203787\n",
      "HMBDP: 0.002346886260604752\n"
     ]
    }
   ],
   "source": [
    "model=read_sbml_model('../iJO1366.xml.gz')\n",
    "model.objective='BIOMASS_Ec_iJO1366_core_53p95M'\n",
    "model.slim_optimize()\n",
    "print('Growth rate: ' + str(model.reactions.BIOMASS_Ec_iJO1366_core_53p95M.flux))\n",
    "print('malonyl-CoA: ' + str(model.reactions.ACCOAC.flux))\n",
    "print('L-tyrosine: ' + str(model.reactions.TYRTA.flux))\n",
    "print('HMBDP: ' + str(model.reactions.MECDPDH5.flux))"
   ]
  },
  {
   "cell_type": "code",
   "execution_count": 43,
   "metadata": {},
   "outputs": [
    {
     "name": "stdout",
     "output_type": "stream",
     "text": [
      "Growth rate: 0.986514446952975\n",
      "malonyl-CoA: 0.03220081806299205\n",
      "L-tyrosine: -0.1324060230122405\n",
      "HMBDP: 0.006536644725510406\n"
     ]
    }
   ],
   "source": [
    "model.objective='BIOMASS_Ec_iJO1366_WT_53p95M'\n",
    "model.slim_optimize()\n",
    "print('Growth rate: ' + str(model.reactions.BIOMASS_Ec_iJO1366_WT_53p95M.flux))\n",
    "print('malonyl-CoA: ' + str(model.reactions.ACCOAC.flux))\n",
    "print('L-tyrosine: ' + str(model.reactions.TYRTA.flux))\n",
    "print('HMBDP: ' + str(model.reactions.MECDPDH5.flux))"
   ]
  },
  {
   "cell_type": "markdown",
   "metadata": {},
   "source": [
    "### Customizing the objective function for all models"
   ]
  },
  {
   "cell_type": "markdown",
   "metadata": {},
   "source": [
    "Retrieving the Biomass function 'BIOMASS_Ec_iJO1366_WT_53p95M' from the model iJO1366.xml.gz as a dictionary."
   ]
  },
  {
   "cell_type": "code",
   "execution_count": 60,
   "metadata": {
    "collapsed": true
   },
   "outputs": [],
   "source": [
    "model=read_sbml_model('../iJO1366.xml.gz') #Importing the model for E. coli"
   ]
  },
  {
   "cell_type": "code",
   "execution_count": 61,
   "metadata": {
    "collapsed": true
   },
   "outputs": [],
   "source": [
    "master_objective=model.reactions.BIOMASS_Ec_iJO1366_WT_53p95M.reaction #Getting the string of the biomass function\n",
    "all_reactants=np.array(re.split('-->',master_objective))#Building a dictionary from the reaction string\n",
    "products=np.array(re.split(' ',all_reactants[1]))\n",
    "reactants=np.array(re.split(' ',all_reactants[0]))\n",
    "def reaction_to_dict(reaction):\n",
    "    products=np.array(re.split(' ',all_reactants[1]))\n",
    "    reactants=np.array(re.split(' ',all_reactants[0]))\n",
    "    reaction={}\n",
    "    i=0\n",
    "    while i < len(reactants)-1:\n",
    "        for j in reactants:\n",
    "            reaction[reactants[i+1]]=float('-'+reactants[i])\n",
    "        i+=3\n",
    "    i=1\n",
    "    while i < len(products)-1:\n",
    "        for j in products:\n",
    "            reaction[products[i+1]]=float('-'+products[i])\n",
    "        i+=3\n",
    "    return reaction"
   ]
  },
  {
   "cell_type": "code",
   "execution_count": 62,
   "metadata": {
    "collapsed": true
   },
   "outputs": [],
   "source": [
    "biomass_dict= reaction_to_dict(model.reactions.BIOMASS_Ec_iJO1366_WT_53p95M.reaction)#Getting the dictionary of the biomass function"
   ]
  },
  {
   "cell_type": "markdown",
   "metadata": {},
   "source": [
    "How many metabolites in the new biomass function are missing in the built models?"
   ]
  },
  {
   "cell_type": "code",
   "execution_count": 51,
   "metadata": {
    "scrolled": true
   },
   "outputs": [
    {
     "name": "stdout",
     "output_type": "stream",
     "text": [
      "metabolites not in Azotobacter vinelandii CA.xml: 3\n",
      "metabolites not in Azotobacter vinelandii CA6.xml: 3\n",
      "metabolites not in Azotobacter vinelandii DJ.xml: 3\n",
      "metabolites not in Bacillus subtilis.xml: 14\n",
      "metabolites not in Bradyrhizobium japonicum.xml: 6\n",
      "metabolites not in Bradyrhizobium japonicum_GCF_001887695.1.xml: 9\n",
      "metabolites not in Clostridium acetobutylicum ATCC 824.xml: 11\n",
      "metabolites not in Clostridium beijerinckii NCIMB 8052.xml: 11\n",
      "metabolites not in Clostridium saccharobutylicum.xml: 7\n",
      "metabolites not in Corynebacterium glutamicum.xml: 13\n",
      "metabolites not in Escherichia coli str. K-12 substr. MG1655.xml: 3\n",
      "metabolites not in Escherichia coli str. K-12 substr. W3110.xml: 3\n",
      "metabolites not in Geobacter sulfurreducens KN400.xml: 4\n",
      "metabolites not in Lactobacillus acidophilus.xml: 24\n",
      "metabolites not in Lactobacillus brevis.xml: 25\n",
      "metabolites not in Lactobacillus buchneri NRRL B-30929.xml: 21\n",
      "metabolites not in Lactobacillus casei.xml: 32\n",
      "metabolites not in Lactococcus lactis subsp. lactis Il1403.xml: 27\n",
      "metabolites not in Pseudomonas chlororaphis.xml: 4\n",
      "metabolites not in Pseudomonas putida KT2440.xml: 4\n",
      "metabolites not in Rhodobacter sphaeroides ATCC 17029.xml: 6\n",
      "metabolites not in Rhodopseudomonas palustris CGA009.xml: 9\n",
      "metabolites not in Streptomyces albus.xml: 11\n",
      "metabolites not in Streptomyces coelicolor A3(2).xml: 10\n",
      "metabolites not in Streptomyces lividans TK24.xml: 7\n",
      "metabolites not in Streptomyces venezuelae.xml: 10\n",
      "metabolites not in Vibrio natriegens.xml: 2\n",
      "CPU times: user 46.4 s, sys: 684 ms, total: 47.1 s\n",
      "Wall time: 47.9 s\n"
     ]
    }
   ],
   "source": [
    "%%time\n",
    "from cobra import Model, Reaction, Metabolite\n",
    "from cobra.io import write_sbml_model\n",
    "models_list=[a for a in os.listdir(\".\") if re.search(\"xml\",a)]\n",
    "for model_name in models_list:\n",
    "    with model as model:\n",
    "        model=read_sbml_model(model_name)\n",
    "        biomass=Reaction('BIOMASS_Ec_iJO1366_WT_53p95M')\n",
    "        biomass.name='E. coli biomass objective function (iJO1366) - WT - with 53.95 GAM estimate'\n",
    "        biomass.lower_bound=0\n",
    "        biomass.upper_bound=1000\n",
    "        model.add_reactions([biomass])\n",
    "        biomass_not=set() #stores all the metabolites of biomass function not in the model\n",
    "        for metabolite in biomass_dict.keys():\n",
    "            if metabolite not in model.metabolites:\n",
    "                biomass_not.add(metabolite)\n",
    "        print('metabolites not in %s: '%(model_name) +str(len(biomass_not)))\n",
    "\n",
    "        \n",
    "#This code prints the metabolites that are not included in the given model"
   ]
  },
  {
   "cell_type": "markdown",
   "metadata": {},
   "source": [
    "How many metabolites in the new biomass function are missing in all the models?"
   ]
  },
  {
   "cell_type": "code",
   "execution_count": 53,
   "metadata": {
    "scrolled": false
   },
   "outputs": [
    {
     "name": "stdout",
     "output_type": "stream",
     "text": [
      "Metabolites not found in any model:33\n",
      "CPU times: user 47.2 s, sys: 752 ms, total: 47.9 s\n",
      "Wall time: 49.1 s\n"
     ]
    }
   ],
   "source": [
    "%%time\n",
    "from cobra import Model, Reaction, Metabolite\n",
    "from cobra.io import write_sbml_model\n",
    "models_list=[a for a in os.listdir(\".\") if re.search(\"xml\",a)]\n",
    "biomass_not=set()\n",
    "for model_name in models_list:\n",
    "    with model as model:\n",
    "        model=read_sbml_model(model_name)\n",
    "        biomass=Reaction('BIOMASS_Ec_iJO1366_WT_53p95M')\n",
    "        biomass.name='E. coli biomass objective function (iJO1366) - WT - with 53.95 GAM estimate'\n",
    "        biomass.lower_bound=0\n",
    "        biomass.upper_bound=1000\n",
    "        model.add_reactions([biomass])\n",
    "        for metabolite in biomass_dict.keys():\n",
    "            if metabolite not in model.metabolites:\n",
    "                biomass_not.add(metabolite)\n",
    "print('Metabolites not found in any model:'+ str(len(biomass_not)))\n",
    "\n",
    "#This script prints the metabolites that are not in any model"
   ]
  },
  {
   "cell_type": "markdown",
   "metadata": {},
   "source": [
    "The following loop adds a new biomass function according to its metabolites content and saves that models in a new folder called './alternative_biomass/'"
   ]
  },
  {
   "cell_type": "code",
   "execution_count": 70,
   "metadata": {},
   "outputs": [
    {
     "name": "stdout",
     "output_type": "stream",
     "text": [
      "CPU times: user 1min 2s, sys: 3.13 s, total: 1min 5s\n",
      "Wall time: 1min 6s\n"
     ]
    }
   ],
   "source": [
    "%%time\n",
    "#This script replaces the biomass function of the models generated by carveme\n",
    "\n",
    "from cobra import Model, Reaction, Metabolite\n",
    "from cobra.io import write_sbml_model\n",
    "models_list=[a for a in os.listdir(\".\") if re.search(\"xml\",a)]\n",
    "with model as model:\n",
    "    for model_name in models_list:\n",
    "        biomass_not=set()\n",
    "        biomass_dict2=biomass_dict\n",
    "        model=read_sbml_model(model_name)\n",
    "        biomass=Reaction('BIOMASS_Ec_iJO1366_WT_53p95M')\n",
    "        biomass.name='E. coli biomass objective function (iJO1366) - WT - with 53.95 GAM estimate'\n",
    "        biomass.lower_bound=0\n",
    "        biomass.upper_bound=1000\n",
    "        model.add_reactions([biomass])\n",
    "        for metabolite in biomass_dict.keys():\n",
    "            if metabolite not in model.metabolites:\n",
    "                biomass_not.add(metabolite)\n",
    "        for metabolite in biomass_not:\n",
    "            biomass_dict2.pop(metabolite)\n",
    "    #for model_name in models_list:\n",
    "        #model=read_sbml_model(model_name)\n",
    "        biomass.add_metabolites(biomass_dict2)\n",
    "        #model.add_reactions([biomass])\n",
    "        model.objective='BIOMASS_Ec_iJO1366_WT_53p95M'\n",
    "        write_sbml_model(model, './alternative_biomass/%s'%(model_name))"
   ]
  },
  {
   "cell_type": "markdown",
   "metadata": {},
   "source": [
    "Calculating fluxes again with the new customized biomass function..."
   ]
  },
  {
   "cell_type": "code",
   "execution_count": 73,
   "metadata": {
    "collapsed": true
   },
   "outputs": [],
   "source": [
    "models_list=[a for a in os.listdir(\"./alternative_biomass/\") if re.search(\"xml\",a)]"
   ]
  },
  {
   "cell_type": "code",
   "execution_count": 77,
   "metadata": {},
   "outputs": [
    {
     "name": "stdout",
     "output_type": "stream",
     "text": [
      "CPU times: user 50.3 s, sys: 753 ms, total: 51.1 s\n",
      "Wall time: 52.8 s\n"
     ]
    }
   ],
   "source": [
    "%%time\n",
    "flux_rates={}     #Creates a dataframe storing the fluxes of Growth, ACCOAC, TYRTA, CHORS, HMBDP for all models\n",
    "for model_name in models_list:\n",
    "    model=read_sbml_model('./alternative_biomass/%s'%(model_name))\n",
    "    model.objective='BIOMASS_Ec_iJO1366_WT_53p95M'\n",
    "    model.slim_optimize()\n",
    "    if check_HMBDP(model)[0]:\n",
    "        hmbdp=check_HMBDP(model)[1]\n",
    "        if check_chor(model)[0]:\n",
    "            chor=check_chor(model)[1]\n",
    "            if check_tyr(model)[0]:\n",
    "                tyr=check_tyr(model)[1]\n",
    "                flux_rates[model_name]=[model.reactions.BIOMASS_Ec_iJO1366_WT_53p95M.flux,\n",
    "                                        model.reactions.ACCOAC.flux,\n",
    "                                        tyr,\n",
    "                                        chor,\n",
    "                                        hmbdp\n",
    "                                        ]\n",
    "            else:\n",
    "                chor=check_chor(model)[1]\n",
    "                hmbdp=check_HMBDP(model)[1]\n",
    "                flux_rates[model_name]=[model.reactions.BIOMASS_Ec_iJO1366_WT_53p95M.flux,\n",
    "                                        model.reactions.ACCOAC.flux,\n",
    "                                        np.nan,\n",
    "                                        chor,\n",
    "                                        hmbdp\n",
    "                                        ]\n",
    "        else:\n",
    "            if check_tyr(model)[0]:\n",
    "                tyr=check_tyr(model)[1]\n",
    "                flux_rates[model_name]=[model.reactions.BIOMASS_Ec_iJO1366_WT_53p95M.flux,\n",
    "                                        model.reactions.ACCOAC.flux,\n",
    "                                        tyr,\n",
    "                                        np.nan,\n",
    "                                        hmbdp\n",
    "                                        ]\n",
    "            else:\n",
    "                hmbdp=check_HMBDP(model)[1]\n",
    "                flux_rates[model_name]=[model.reactions.GBIOMASS_Ec_iJO1366_WT_53p95M.flux,\n",
    "                                        model.reactions.ACCOAC.flux,\n",
    "                                        np.nan,\n",
    "                                        np.nan,\n",
    "                                        hmbdp\n",
    "                                        ]\n",
    "    else:\n",
    "        if check_chor(model)[0]:\n",
    "            chor=check_chor(model)[1]\n",
    "            if check_tyr(model)[0]:\n",
    "                tyr=check_tyr(model)[1]\n",
    "                flux_rates[model_name]=[model.reactions.BIOMASS_Ec_iJO1366_WT_53p95M.flux,\n",
    "                                        model.reactions.ACCOAC.flux,\n",
    "                                        tyr,\n",
    "                                        chor,\n",
    "                                        np.nan\n",
    "                                        ]\n",
    "            else:\n",
    "                chor=check_chor(model)[1]\n",
    "                flux_rates[model_name]=[model.reactions.BIOMASS_Ec_iJO1366_WT_53p95M.flux,\n",
    "                                        model.reactions.ACCOAC.flux,\n",
    "                                        np.nan,\n",
    "                                        chor,\n",
    "                                        np.nan\n",
    "                                        ]\n",
    "        else:\n",
    "            if check_tyr(model)[0]:\n",
    "                tyr=check_tyr(model)[1]\n",
    "                flux_rates[model_name]=[model.reactions.BIOMASS_Ec_iJO1366_WT_53p95M.flux,\n",
    "                                        model.reactions.ACCOAC.flux,\n",
    "                                        tyr,\n",
    "                                        np.nan,\n",
    "                                        np.nan\n",
    "                                        ]\n",
    "            else:\n",
    "                flux_rates[model_name]=[model.reactions.BIOMASS_Ec_iJO1366_WT_53p95M.flux,\n",
    "                                        model.reactions.ACCOAC.flux,\n",
    "                                        np.nan,\n",
    "                                        np.nan,\n",
    "                                        np.nan\n",
    "                                        ]\n",
    "df=pd.DataFrame.from_dict(flux_rates, orient=\"index\")\n",
    "df.rename(columns={0:'growth_rate',1:'malonyl-CoA',2:'L-tyrosine',3:'Chorismate',4:'HMBDP'}, inplace=True)"
   ]
  },
  {
   "cell_type": "markdown",
   "metadata": {},
   "source": [
    "Ploting..."
   ]
  },
  {
   "cell_type": "code",
   "execution_count": 78,
   "metadata": {},
   "outputs": [
    {
     "data": {
      "text/plain": [
       "<matplotlib.axes._subplots.AxesSubplot at 0x14a971e10>"
      ]
     },
     "execution_count": 78,
     "metadata": {},
     "output_type": "execute_result"
    },
    {
     "data": {
      "image/png": "[encoded data removed]",
      "text/plain": [
       "<matplotlib.figure.Figure at 0x14a755ac8>"
      ]
     },
     "metadata": {},
     "output_type": "display_data"
    }
   ],
   "source": [
    "plt.subplots(figsize=(10,9)) #Ploting a heatmap\n",
    "cmap = sns.cubehelix_palette(as_cmap=True, light=.9)\n",
    "sns.heatmap(data=df.iloc[0:,0:5],cmap='viridis',vmin=0, vmax=10)"
   ]
  },
  {
   "cell_type": "markdown",
   "metadata": {},
   "source": [
    "- New models are not able to grow :(\n",
    "- Biomass functions needs to be normalized to 1g of DW\n",
    "- Gapfilling of new models is necessary..."
   ]
  },
  {
   "cell_type": "code",
   "execution_count": null,
   "metadata": {},
   "outputs": [],
   "source": []
  },
  {
   "cell_type": "code",
   "execution_count": null,
   "metadata": {
    "collapsed": true
   },
   "outputs": [],
   "source": []
  }
 ],
 "metadata": {
  "kernelspec": {
   "display_name": "Python 3",
   "language": "python",
   "name": "python3"
  },
  "language_info": {
   "codemirror_mode": {
    "name": "ipython",
    "version": 3
   },
   "file_extension": ".py",
   "mimetype": "text/x-python",
   "name": "python",
   "nbconvert_exporter": "python",
   "pygments_lexer": "ipython3",
   "version": "3.6.1"
  }
 },
 "nbformat": 4,
 "nbformat_minor": 2
}
